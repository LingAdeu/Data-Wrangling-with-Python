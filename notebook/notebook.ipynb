{
 "cells": [
  {
   "cell_type": "code",
   "execution_count": 325,
   "id": "01374205",
   "metadata": {},
   "outputs": [],
   "source": [
    "# import libraries\n",
    "import pandas as pd\n",
    "import seaborn as sns\n",
    "import sqlite3 as db\n",
    "import matplotlib.pyplot as plt"
   ]
  },
  {
   "cell_type": "code",
   "execution_count": 326,
   "id": "4fa1dbd6",
   "metadata": {},
   "outputs": [
    {
     "data": {
      "text/plain": [
       "[('olist_order_customer_dataset',),\n",
       " ('olist_order_dataset',),\n",
       " ('olist_order_reviews_dataset',),\n",
       " ('olist_order_payments_dataset',),\n",
       " ('olist_order_items_dataset',),\n",
       " ('olist_products_dataset',),\n",
       " ('olist_sellers_dataset',),\n",
       " ('olist_geolocation_dataset',),\n",
       " ('product_category_name_translation',)]"
      ]
     },
     "execution_count": 326,
     "metadata": {},
     "output_type": "execute_result"
    }
   ],
   "source": [
    "# creating connection\n",
    "connection = db.connect(\"olist.db\")\n",
    "\n",
    "# create cursor\n",
    "curs = connection.cursor()\n",
    "\n",
    "# execute query\n",
    "df = curs.execute(\"SELECT name FROM sqlite_master WHERE type = 'table'\")\n",
    "\n",
    "# show all tables\n",
    "df.fetchall()"
   ]
  },
  {
   "cell_type": "markdown",
   "id": "660bc507",
   "metadata": {},
   "source": [
    "# 1 Data Import\n",
    "My objectives in this analysis are:\n",
    "1. to discover the top-selling products in the e-commerce company's platform;\n",
    "2. to find out the customers' most preferred payment methods when buying products from company; and\n",
    "3. to examine which products are top and least rated based on their reviews.\n",
    "\n",
    "For these objectives, I will need datasets on the products sold (`olist_products_dataset` and `product_category_name_translation`), the payment methods (`olist_order_payments_dataset`), and product reviews (`olist_order_reviews_dataset`). However, because some datasets do not relate each other directly, I will need `order_item_tbl` which contains columns `order_id` and `product_id` when merging them."
   ]
  },
  {
   "cell_type": "markdown",
   "id": "60d5bd4f",
   "metadata": {},
   "source": [
    "## 1.1 Importing datasets"
   ]
  },
  {
   "cell_type": "code",
   "execution_count": 327,
   "id": "014b7100",
   "metadata": {},
   "outputs": [],
   "source": [
    "# product dataset\n",
    "product_tbl = pd.read_sql_query(\n",
    "    \"\"\"\n",
    "    SELECT product_id, product_category_name\n",
    "    FROM olist_products_dataset;\n",
    "    \"\"\", connection)\n",
    "\n",
    "# payment dataset\n",
    "payment_tbl = pd.read_sql_query(\n",
    "    \"\"\"\n",
    "    SELECT order_id, payment_type, payment_value \n",
    "    FROM olist_order_payments_dataset;\n",
    "    \"\"\", connection)\n",
    "\n",
    "# review dataset\n",
    "review_tbl = pd.read_sql_query(\n",
    "    \"\"\"\n",
    "    SELECT order_id, review_score \n",
    "    FROM olist_order_reviews_dataset;\n",
    "    \"\"\", connection)\n",
    "    \n",
    "# order items dataset\n",
    "order_item_tbl = pd.read_sql_query(\n",
    "    \"\"\"\n",
    "    SELECT order_id, product_id\n",
    "    FROM olist_order_items_dataset;\n",
    "    \"\"\", connection)\n",
    "    \n",
    "# category name translation dataset\n",
    "category_trans_tbl = pd.read_sql_query(\n",
    "    \"\"\"\n",
    "    SELECT product_category_name, product_category_name_english\n",
    "    FROM product_category_name_translation;\n",
    "    \"\"\", connection)"
   ]
  },
  {
   "cell_type": "code",
   "execution_count": 328,
   "id": "b770bd36",
   "metadata": {},
   "outputs": [],
   "source": [
    "# order_dataset\n",
    "order_tbl = pd.read_sql_query(\n",
    "    \"\"\"\n",
    "    SELECT order_id, order_purchase_timestamp\n",
    "    FROM olist_order_dataset;\n",
    "    \"\"\", connection)"
   ]
  },
  {
   "cell_type": "markdown",
   "id": "b7791b4c",
   "metadata": {},
   "source": [
    "**Note**: During the data import, I directly perform selections of relevant columns so data wrangling will be more time-efficient."
   ]
  },
  {
   "cell_type": "markdown",
   "id": "6dbd93c5",
   "metadata": {},
   "source": [
    "## 1.2 Checking datasets"
   ]
  },
  {
   "cell_type": "code",
   "execution_count": 329,
   "id": "45fabfc8",
   "metadata": {
    "scrolled": false
   },
   "outputs": [
    {
     "data": {
      "text/html": [
       "<div>\n",
       "<style scoped>\n",
       "    .dataframe tbody tr th:only-of-type {\n",
       "        vertical-align: middle;\n",
       "    }\n",
       "\n",
       "    .dataframe tbody tr th {\n",
       "        vertical-align: top;\n",
       "    }\n",
       "\n",
       "    .dataframe thead th {\n",
       "        text-align: right;\n",
       "    }\n",
       "</style>\n",
       "<table border=\"1\" class=\"dataframe\">\n",
       "  <thead>\n",
       "    <tr style=\"text-align: right;\">\n",
       "      <th></th>\n",
       "      <th>product_id</th>\n",
       "      <th>product_category_name</th>\n",
       "    </tr>\n",
       "  </thead>\n",
       "  <tbody>\n",
       "    <tr>\n",
       "      <th>0</th>\n",
       "      <td>1e9e8ef04dbcff4541ed26657ea517e5</td>\n",
       "      <td>perfumaria</td>\n",
       "    </tr>\n",
       "    <tr>\n",
       "      <th>1</th>\n",
       "      <td>3aa071139cb16b67ca9e5dea641aaa2f</td>\n",
       "      <td>artes</td>\n",
       "    </tr>\n",
       "    <tr>\n",
       "      <th>2</th>\n",
       "      <td>96bd76ec8810374ed1b65e291975717f</td>\n",
       "      <td>esporte_lazer</td>\n",
       "    </tr>\n",
       "    <tr>\n",
       "      <th>3</th>\n",
       "      <td>cef67bcfe19066a932b7673e239eb23d</td>\n",
       "      <td>bebes</td>\n",
       "    </tr>\n",
       "    <tr>\n",
       "      <th>4</th>\n",
       "      <td>9dc1a7de274444849c219cff195d0b71</td>\n",
       "      <td>utilidades_domesticas</td>\n",
       "    </tr>\n",
       "  </tbody>\n",
       "</table>\n",
       "</div>"
      ],
      "text/plain": [
       "                         product_id  product_category_name\n",
       "0  1e9e8ef04dbcff4541ed26657ea517e5             perfumaria\n",
       "1  3aa071139cb16b67ca9e5dea641aaa2f                  artes\n",
       "2  96bd76ec8810374ed1b65e291975717f          esporte_lazer\n",
       "3  cef67bcfe19066a932b7673e239eb23d                  bebes\n",
       "4  9dc1a7de274444849c219cff195d0b71  utilidades_domesticas"
      ]
     },
     "execution_count": 329,
     "metadata": {},
     "output_type": "execute_result"
    }
   ],
   "source": [
    "# check product_tbl\n",
    "product_tbl.head()"
   ]
  },
  {
   "cell_type": "code",
   "execution_count": 330,
   "id": "2be3c46e",
   "metadata": {
    "scrolled": true
   },
   "outputs": [
    {
     "data": {
      "text/html": [
       "<div>\n",
       "<style scoped>\n",
       "    .dataframe tbody tr th:only-of-type {\n",
       "        vertical-align: middle;\n",
       "    }\n",
       "\n",
       "    .dataframe tbody tr th {\n",
       "        vertical-align: top;\n",
       "    }\n",
       "\n",
       "    .dataframe thead th {\n",
       "        text-align: right;\n",
       "    }\n",
       "</style>\n",
       "<table border=\"1\" class=\"dataframe\">\n",
       "  <thead>\n",
       "    <tr style=\"text-align: right;\">\n",
       "      <th></th>\n",
       "      <th>product_category_name</th>\n",
       "      <th>product_category_name_english</th>\n",
       "    </tr>\n",
       "  </thead>\n",
       "  <tbody>\n",
       "    <tr>\n",
       "      <th>0</th>\n",
       "      <td>beleza_saude</td>\n",
       "      <td>health_beauty</td>\n",
       "    </tr>\n",
       "    <tr>\n",
       "      <th>1</th>\n",
       "      <td>informatica_acessorios</td>\n",
       "      <td>computers_accessories</td>\n",
       "    </tr>\n",
       "    <tr>\n",
       "      <th>2</th>\n",
       "      <td>automotivo</td>\n",
       "      <td>auto</td>\n",
       "    </tr>\n",
       "    <tr>\n",
       "      <th>3</th>\n",
       "      <td>cama_mesa_banho</td>\n",
       "      <td>bed_bath_table</td>\n",
       "    </tr>\n",
       "    <tr>\n",
       "      <th>4</th>\n",
       "      <td>moveis_decoracao</td>\n",
       "      <td>furniture_decor</td>\n",
       "    </tr>\n",
       "  </tbody>\n",
       "</table>\n",
       "</div>"
      ],
      "text/plain": [
       "    product_category_name product_category_name_english\n",
       "0            beleza_saude                 health_beauty\n",
       "1  informatica_acessorios         computers_accessories\n",
       "2              automotivo                          auto\n",
       "3         cama_mesa_banho                bed_bath_table\n",
       "4        moveis_decoracao               furniture_decor"
      ]
     },
     "execution_count": 330,
     "metadata": {},
     "output_type": "execute_result"
    }
   ],
   "source": [
    "# check product_category_name_translation\n",
    "category_trans_tbl.head()"
   ]
  },
  {
   "cell_type": "code",
   "execution_count": 331,
   "id": "c6f413d2",
   "metadata": {
    "scrolled": true
   },
   "outputs": [
    {
     "data": {
      "text/html": [
       "<div>\n",
       "<style scoped>\n",
       "    .dataframe tbody tr th:only-of-type {\n",
       "        vertical-align: middle;\n",
       "    }\n",
       "\n",
       "    .dataframe tbody tr th {\n",
       "        vertical-align: top;\n",
       "    }\n",
       "\n",
       "    .dataframe thead th {\n",
       "        text-align: right;\n",
       "    }\n",
       "</style>\n",
       "<table border=\"1\" class=\"dataframe\">\n",
       "  <thead>\n",
       "    <tr style=\"text-align: right;\">\n",
       "      <th></th>\n",
       "      <th>order_id</th>\n",
       "      <th>review_score</th>\n",
       "    </tr>\n",
       "  </thead>\n",
       "  <tbody>\n",
       "    <tr>\n",
       "      <th>0</th>\n",
       "      <td>73fc7af87114b39712e6da79b0a377eb</td>\n",
       "      <td>4</td>\n",
       "    </tr>\n",
       "    <tr>\n",
       "      <th>1</th>\n",
       "      <td>a548910a1c6147796b98fdf73dbeba33</td>\n",
       "      <td>5</td>\n",
       "    </tr>\n",
       "    <tr>\n",
       "      <th>2</th>\n",
       "      <td>f9e4b658b201a9f2ecdecbb34bed034b</td>\n",
       "      <td>5</td>\n",
       "    </tr>\n",
       "    <tr>\n",
       "      <th>3</th>\n",
       "      <td>658677c97b385a9be170737859d3511b</td>\n",
       "      <td>5</td>\n",
       "    </tr>\n",
       "    <tr>\n",
       "      <th>4</th>\n",
       "      <td>8e6bfb81e283fa7e4f11123a3fb894f1</td>\n",
       "      <td>5</td>\n",
       "    </tr>\n",
       "  </tbody>\n",
       "</table>\n",
       "</div>"
      ],
      "text/plain": [
       "                           order_id  review_score\n",
       "0  73fc7af87114b39712e6da79b0a377eb             4\n",
       "1  a548910a1c6147796b98fdf73dbeba33             5\n",
       "2  f9e4b658b201a9f2ecdecbb34bed034b             5\n",
       "3  658677c97b385a9be170737859d3511b             5\n",
       "4  8e6bfb81e283fa7e4f11123a3fb894f1             5"
      ]
     },
     "execution_count": 331,
     "metadata": {},
     "output_type": "execute_result"
    }
   ],
   "source": [
    "# check review_tbl\n",
    "review_tbl.head()"
   ]
  },
  {
   "cell_type": "code",
   "execution_count": 332,
   "id": "c30d5678",
   "metadata": {
    "scrolled": true
   },
   "outputs": [
    {
     "data": {
      "text/html": [
       "<div>\n",
       "<style scoped>\n",
       "    .dataframe tbody tr th:only-of-type {\n",
       "        vertical-align: middle;\n",
       "    }\n",
       "\n",
       "    .dataframe tbody tr th {\n",
       "        vertical-align: top;\n",
       "    }\n",
       "\n",
       "    .dataframe thead th {\n",
       "        text-align: right;\n",
       "    }\n",
       "</style>\n",
       "<table border=\"1\" class=\"dataframe\">\n",
       "  <thead>\n",
       "    <tr style=\"text-align: right;\">\n",
       "      <th></th>\n",
       "      <th>order_id</th>\n",
       "      <th>product_id</th>\n",
       "    </tr>\n",
       "  </thead>\n",
       "  <tbody>\n",
       "    <tr>\n",
       "      <th>0</th>\n",
       "      <td>00010242fe8c5a6d1ba2dd792cb16214</td>\n",
       "      <td>4244733e06e7ecb4970a6e2683c13e61</td>\n",
       "    </tr>\n",
       "    <tr>\n",
       "      <th>1</th>\n",
       "      <td>00018f77f2f0320c557190d7a144bdd3</td>\n",
       "      <td>e5f2d52b802189ee658865ca93d83a8f</td>\n",
       "    </tr>\n",
       "    <tr>\n",
       "      <th>2</th>\n",
       "      <td>000229ec398224ef6ca0657da4fc703e</td>\n",
       "      <td>c777355d18b72b67abbeef9df44fd0fd</td>\n",
       "    </tr>\n",
       "    <tr>\n",
       "      <th>3</th>\n",
       "      <td>00024acbcdf0a6daa1e931b038114c75</td>\n",
       "      <td>7634da152a4610f1595efa32f14722fc</td>\n",
       "    </tr>\n",
       "    <tr>\n",
       "      <th>4</th>\n",
       "      <td>00042b26cf59d7ce69dfabb4e55b4fd9</td>\n",
       "      <td>ac6c3623068f30de03045865e4e10089</td>\n",
       "    </tr>\n",
       "  </tbody>\n",
       "</table>\n",
       "</div>"
      ],
      "text/plain": [
       "                           order_id                        product_id\n",
       "0  00010242fe8c5a6d1ba2dd792cb16214  4244733e06e7ecb4970a6e2683c13e61\n",
       "1  00018f77f2f0320c557190d7a144bdd3  e5f2d52b802189ee658865ca93d83a8f\n",
       "2  000229ec398224ef6ca0657da4fc703e  c777355d18b72b67abbeef9df44fd0fd\n",
       "3  00024acbcdf0a6daa1e931b038114c75  7634da152a4610f1595efa32f14722fc\n",
       "4  00042b26cf59d7ce69dfabb4e55b4fd9  ac6c3623068f30de03045865e4e10089"
      ]
     },
     "execution_count": 332,
     "metadata": {},
     "output_type": "execute_result"
    }
   ],
   "source": [
    "# check order_item_tbl\n",
    "order_item_tbl.head()"
   ]
  },
  {
   "cell_type": "markdown",
   "id": "f99792dc",
   "metadata": {},
   "source": [
    "# 2 Data Merging\n",
    "The procedure here is:\n",
    "1. to merge `payment_tbl` with `review_tbl` by `order_id`, and store the result in `join_tbl`;\n",
    "2. to merge `join_tbl` with `order_item_tbl` by `order_id`, and save the result in `join_tbl`;\n",
    "3. to merge `join_tbl` with `order_tbl` by `order_id`, and continue to store the result in the same name of joined dataset;\n",
    "4. to merge `join_tbl` with `product_tbl` by `product_id`, and save the result in `join_tbl`;\n",
    "5. to merge `join_tbl` with `category_trans_tbl`."
   ]
  },
  {
   "cell_type": "code",
   "execution_count": 333,
   "id": "5b83bfd1",
   "metadata": {},
   "outputs": [
    {
     "data": {
      "text/plain": [
       "(115609, 8)"
      ]
     },
     "execution_count": 333,
     "metadata": {},
     "output_type": "execute_result"
    }
   ],
   "source": [
    "# combine payment_tbl and review_tbl, stored in join_tbl\n",
    "join_tbl = payment_tbl.merge(review_tbl, on=\"order_id\")\n",
    "\n",
    "# combine join_tbl and order_item_tbl, stored in join_tbl\n",
    "join_tbl = join_tbl.merge(order_item_tbl, on=\"order_id\")\n",
    "\n",
    "# combine join_tbl and order_tbl, stored in join_tbl\n",
    "join_tbl = join_tbl.merge(order_tbl, on=\"order_id\")\n",
    "\n",
    "# combine join_tbl and product_tb, stored in join_tbl\n",
    "join_tbl = join_tbl.merge(product_tbl, on=\"product_id\")\n",
    "\n",
    "# combine join_tbl and categor_trans_tbl, stored in join_tbl\n",
    "join_tbl = join_tbl.merge(category_trans_tbl, on=\"product_category_name\")\n",
    "\n",
    "# check the dimension (ncol & nrow)\n",
    "join_tbl.shape"
   ]
  },
  {
   "cell_type": "markdown",
   "id": "8ad1a943",
   "metadata": {},
   "source": [
    "## 2.1 Data description"
   ]
  },
  {
   "cell_type": "code",
   "execution_count": 334,
   "id": "8e8ee6af",
   "metadata": {
    "scrolled": true
   },
   "outputs": [
    {
     "data": {
      "text/html": [
       "<div>\n",
       "<style scoped>\n",
       "    .dataframe tbody tr th:only-of-type {\n",
       "        vertical-align: middle;\n",
       "    }\n",
       "\n",
       "    .dataframe tbody tr th {\n",
       "        vertical-align: top;\n",
       "    }\n",
       "\n",
       "    .dataframe thead th {\n",
       "        text-align: right;\n",
       "    }\n",
       "</style>\n",
       "<table border=\"1\" class=\"dataframe\">\n",
       "  <thead>\n",
       "    <tr style=\"text-align: right;\">\n",
       "      <th></th>\n",
       "      <th>order_id</th>\n",
       "      <th>payment_type</th>\n",
       "      <th>payment_value</th>\n",
       "      <th>review_score</th>\n",
       "      <th>product_id</th>\n",
       "      <th>order_purchase_timestamp</th>\n",
       "      <th>product_category_name</th>\n",
       "      <th>product_category_name_english</th>\n",
       "    </tr>\n",
       "  </thead>\n",
       "  <tbody>\n",
       "    <tr>\n",
       "      <th>0</th>\n",
       "      <td>b81ef226f3fe1789b1e8b2acac839d17</td>\n",
       "      <td>credit_card</td>\n",
       "      <td>99.33</td>\n",
       "      <td>1</td>\n",
       "      <td>af74cc53dcffc8384b29e7abfa41902b</td>\n",
       "      <td>2018-04-25 22:01:49</td>\n",
       "      <td>casa_construcao</td>\n",
       "      <td>home_construction</td>\n",
       "    </tr>\n",
       "    <tr>\n",
       "      <th>1</th>\n",
       "      <td>d86305c284cecff56c7ee9d3fbd4f8d6</td>\n",
       "      <td>credit_card</td>\n",
       "      <td>93.72</td>\n",
       "      <td>4</td>\n",
       "      <td>af74cc53dcffc8384b29e7abfa41902b</td>\n",
       "      <td>2018-04-15 22:53:59</td>\n",
       "      <td>casa_construcao</td>\n",
       "      <td>home_construction</td>\n",
       "    </tr>\n",
       "    <tr>\n",
       "      <th>2</th>\n",
       "      <td>b545ba7b0bd67a3128185c7214704319</td>\n",
       "      <td>credit_card</td>\n",
       "      <td>340.08</td>\n",
       "      <td>4</td>\n",
       "      <td>2233b59e8cf2817f9659e52cce3093de</td>\n",
       "      <td>2018-06-11 14:59:24</td>\n",
       "      <td>casa_construcao</td>\n",
       "      <td>home_construction</td>\n",
       "    </tr>\n",
       "    <tr>\n",
       "      <th>3</th>\n",
       "      <td>6a26bd1a037993f1205073dbeda67db4</td>\n",
       "      <td>credit_card</td>\n",
       "      <td>67.12</td>\n",
       "      <td>4</td>\n",
       "      <td>679a3e5e1d2bb68982be5734c6e55e63</td>\n",
       "      <td>2018-02-15 13:53:42</td>\n",
       "      <td>casa_construcao</td>\n",
       "      <td>home_construction</td>\n",
       "    </tr>\n",
       "    <tr>\n",
       "      <th>4</th>\n",
       "      <td>1d84d00f6d2334d63f35ba528cd0d99d</td>\n",
       "      <td>boleto</td>\n",
       "      <td>63.74</td>\n",
       "      <td>5</td>\n",
       "      <td>679a3e5e1d2bb68982be5734c6e55e63</td>\n",
       "      <td>2018-02-10 16:50:42</td>\n",
       "      <td>casa_construcao</td>\n",
       "      <td>home_construction</td>\n",
       "    </tr>\n",
       "  </tbody>\n",
       "</table>\n",
       "</div>"
      ],
      "text/plain": [
       "                           order_id payment_type  payment_value  review_score  \\\n",
       "0  b81ef226f3fe1789b1e8b2acac839d17  credit_card          99.33             1   \n",
       "1  d86305c284cecff56c7ee9d3fbd4f8d6  credit_card          93.72             4   \n",
       "2  b545ba7b0bd67a3128185c7214704319  credit_card         340.08             4   \n",
       "3  6a26bd1a037993f1205073dbeda67db4  credit_card          67.12             4   \n",
       "4  1d84d00f6d2334d63f35ba528cd0d99d       boleto          63.74             5   \n",
       "\n",
       "                         product_id order_purchase_timestamp  \\\n",
       "0  af74cc53dcffc8384b29e7abfa41902b      2018-04-25 22:01:49   \n",
       "1  af74cc53dcffc8384b29e7abfa41902b      2018-04-15 22:53:59   \n",
       "2  2233b59e8cf2817f9659e52cce3093de      2018-06-11 14:59:24   \n",
       "3  679a3e5e1d2bb68982be5734c6e55e63      2018-02-15 13:53:42   \n",
       "4  679a3e5e1d2bb68982be5734c6e55e63      2018-02-10 16:50:42   \n",
       "\n",
       "  product_category_name product_category_name_english  \n",
       "0       casa_construcao             home_construction  \n",
       "1       casa_construcao             home_construction  \n",
       "2       casa_construcao             home_construction  \n",
       "3       casa_construcao             home_construction  \n",
       "4       casa_construcao             home_construction  "
      ]
     },
     "execution_count": 334,
     "metadata": {},
     "output_type": "execute_result"
    }
   ],
   "source": [
    "# top five-rows of the join dataset\n",
    "join_tbl.head()"
   ]
  },
  {
   "cell_type": "code",
   "execution_count": 335,
   "id": "2f9475ba",
   "metadata": {},
   "outputs": [
    {
     "data": {
      "text/html": [
       "<div>\n",
       "<style scoped>\n",
       "    .dataframe tbody tr th:only-of-type {\n",
       "        vertical-align: middle;\n",
       "    }\n",
       "\n",
       "    .dataframe tbody tr th {\n",
       "        vertical-align: top;\n",
       "    }\n",
       "\n",
       "    .dataframe thead th {\n",
       "        text-align: right;\n",
       "    }\n",
       "</style>\n",
       "<table border=\"1\" class=\"dataframe\">\n",
       "  <thead>\n",
       "    <tr style=\"text-align: right;\">\n",
       "      <th></th>\n",
       "      <th>order_id</th>\n",
       "      <th>payment_type</th>\n",
       "      <th>payment_value</th>\n",
       "      <th>review_score</th>\n",
       "      <th>product_id</th>\n",
       "      <th>order_purchase_timestamp</th>\n",
       "      <th>product_category_name_english</th>\n",
       "    </tr>\n",
       "  </thead>\n",
       "  <tbody>\n",
       "    <tr>\n",
       "      <th>0</th>\n",
       "      <td>b81ef226f3fe1789b1e8b2acac839d17</td>\n",
       "      <td>credit_card</td>\n",
       "      <td>99.33</td>\n",
       "      <td>1</td>\n",
       "      <td>af74cc53dcffc8384b29e7abfa41902b</td>\n",
       "      <td>2018-04-25 22:01:49</td>\n",
       "      <td>home_construction</td>\n",
       "    </tr>\n",
       "    <tr>\n",
       "      <th>1</th>\n",
       "      <td>d86305c284cecff56c7ee9d3fbd4f8d6</td>\n",
       "      <td>credit_card</td>\n",
       "      <td>93.72</td>\n",
       "      <td>4</td>\n",
       "      <td>af74cc53dcffc8384b29e7abfa41902b</td>\n",
       "      <td>2018-04-15 22:53:59</td>\n",
       "      <td>home_construction</td>\n",
       "    </tr>\n",
       "    <tr>\n",
       "      <th>2</th>\n",
       "      <td>b545ba7b0bd67a3128185c7214704319</td>\n",
       "      <td>credit_card</td>\n",
       "      <td>340.08</td>\n",
       "      <td>4</td>\n",
       "      <td>2233b59e8cf2817f9659e52cce3093de</td>\n",
       "      <td>2018-06-11 14:59:24</td>\n",
       "      <td>home_construction</td>\n",
       "    </tr>\n",
       "    <tr>\n",
       "      <th>3</th>\n",
       "      <td>6a26bd1a037993f1205073dbeda67db4</td>\n",
       "      <td>credit_card</td>\n",
       "      <td>67.12</td>\n",
       "      <td>4</td>\n",
       "      <td>679a3e5e1d2bb68982be5734c6e55e63</td>\n",
       "      <td>2018-02-15 13:53:42</td>\n",
       "      <td>home_construction</td>\n",
       "    </tr>\n",
       "    <tr>\n",
       "      <th>4</th>\n",
       "      <td>1d84d00f6d2334d63f35ba528cd0d99d</td>\n",
       "      <td>boleto</td>\n",
       "      <td>63.74</td>\n",
       "      <td>5</td>\n",
       "      <td>679a3e5e1d2bb68982be5734c6e55e63</td>\n",
       "      <td>2018-02-10 16:50:42</td>\n",
       "      <td>home_construction</td>\n",
       "    </tr>\n",
       "  </tbody>\n",
       "</table>\n",
       "</div>"
      ],
      "text/plain": [
       "                           order_id payment_type  payment_value  review_score  \\\n",
       "0  b81ef226f3fe1789b1e8b2acac839d17  credit_card          99.33             1   \n",
       "1  d86305c284cecff56c7ee9d3fbd4f8d6  credit_card          93.72             4   \n",
       "2  b545ba7b0bd67a3128185c7214704319  credit_card         340.08             4   \n",
       "3  6a26bd1a037993f1205073dbeda67db4  credit_card          67.12             4   \n",
       "4  1d84d00f6d2334d63f35ba528cd0d99d       boleto          63.74             5   \n",
       "\n",
       "                         product_id order_purchase_timestamp  \\\n",
       "0  af74cc53dcffc8384b29e7abfa41902b      2018-04-25 22:01:49   \n",
       "1  af74cc53dcffc8384b29e7abfa41902b      2018-04-15 22:53:59   \n",
       "2  2233b59e8cf2817f9659e52cce3093de      2018-06-11 14:59:24   \n",
       "3  679a3e5e1d2bb68982be5734c6e55e63      2018-02-15 13:53:42   \n",
       "4  679a3e5e1d2bb68982be5734c6e55e63      2018-02-10 16:50:42   \n",
       "\n",
       "  product_category_name_english  \n",
       "0             home_construction  \n",
       "1             home_construction  \n",
       "2             home_construction  \n",
       "3             home_construction  \n",
       "4             home_construction  "
      ]
     },
     "execution_count": 335,
     "metadata": {},
     "output_type": "execute_result"
    }
   ],
   "source": [
    "# drop product_category_name\n",
    "join_tbl.drop(columns=[\"product_category_name\"], inplace=True, axis=1)\n",
    "\n",
    "# recheck the result\n",
    "join_tbl.head()"
   ]
  },
  {
   "cell_type": "markdown",
   "id": "ef7192e4",
   "metadata": {},
   "source": [
    "After removing the `product_category_name`, the `join_tbl` contains 7 columns and 115609 rows. In addition to the data index on the left, the columns consists of\n",
    "1. `order_id`: unique order identifier consisting of a combination between numbers and lower-cased letters\n",
    "2. `payment_type`: preferred payment methods such as credit or debit cards\n",
    "3. `payment_value`: transaction value\n",
    "4. `review_score`: customer satisfaction score from 1 to 5\n",
    "5. `product_id`: unique product identifier consisting of a combination between numbers and lower-cased letters\n",
    "6. `product_category_name_english`: category name in English\n",
    "7. `order_purchase_timestamp`: purchase timestamp"
   ]
  },
  {
   "cell_type": "markdown",
   "id": "7ec650ad",
   "metadata": {},
   "source": [
    "# 3 Data cleaning"
   ]
  },
  {
   "cell_type": "markdown",
   "id": "e7a0333e",
   "metadata": {},
   "source": [
    "## 3.1 Handling missing values"
   ]
  },
  {
   "cell_type": "code",
   "execution_count": 336,
   "id": "ce613a10",
   "metadata": {
    "scrolled": true
   },
   "outputs": [
    {
     "data": {
      "text/html": [
       "<div>\n",
       "<style scoped>\n",
       "    .dataframe tbody tr th:only-of-type {\n",
       "        vertical-align: middle;\n",
       "    }\n",
       "\n",
       "    .dataframe tbody tr th {\n",
       "        vertical-align: top;\n",
       "    }\n",
       "\n",
       "    .dataframe thead th {\n",
       "        text-align: right;\n",
       "    }\n",
       "</style>\n",
       "<table border=\"1\" class=\"dataframe\">\n",
       "  <thead>\n",
       "    <tr style=\"text-align: right;\">\n",
       "      <th></th>\n",
       "      <th>column_name</th>\n",
       "      <th>value</th>\n",
       "    </tr>\n",
       "  </thead>\n",
       "  <tbody>\n",
       "    <tr>\n",
       "      <th>0</th>\n",
       "      <td>order_id</td>\n",
       "      <td>0</td>\n",
       "    </tr>\n",
       "    <tr>\n",
       "      <th>1</th>\n",
       "      <td>payment_type</td>\n",
       "      <td>0</td>\n",
       "    </tr>\n",
       "    <tr>\n",
       "      <th>2</th>\n",
       "      <td>payment_value</td>\n",
       "      <td>0</td>\n",
       "    </tr>\n",
       "    <tr>\n",
       "      <th>3</th>\n",
       "      <td>review_score</td>\n",
       "      <td>0</td>\n",
       "    </tr>\n",
       "    <tr>\n",
       "      <th>4</th>\n",
       "      <td>product_id</td>\n",
       "      <td>0</td>\n",
       "    </tr>\n",
       "    <tr>\n",
       "      <th>5</th>\n",
       "      <td>order_purchase_timestamp</td>\n",
       "      <td>0</td>\n",
       "    </tr>\n",
       "    <tr>\n",
       "      <th>6</th>\n",
       "      <td>product_category_name_english</td>\n",
       "      <td>0</td>\n",
       "    </tr>\n",
       "  </tbody>\n",
       "</table>\n",
       "</div>"
      ],
      "text/plain": [
       "                     column_name  value\n",
       "0                       order_id      0\n",
       "1                   payment_type      0\n",
       "2                  payment_value      0\n",
       "3                   review_score      0\n",
       "4                     product_id      0\n",
       "5       order_purchase_timestamp      0\n",
       "6  product_category_name_english      0"
      ]
     },
     "execution_count": 336,
     "metadata": {},
     "output_type": "execute_result"
    }
   ],
   "source": [
    "# check missing values\n",
    "join_tbl.isna().sum().to_frame().reset_index().rename(columns={\"index\":\"column_name\", 0:\"value\"})"
   ]
  },
  {
   "cell_type": "markdown",
   "id": "977d024f",
   "metadata": {},
   "source": [
    "## 3.2 Handling duplicates"
   ]
  },
  {
   "cell_type": "code",
   "execution_count": 337,
   "id": "796ed595",
   "metadata": {
    "scrolled": false
   },
   "outputs": [
    {
     "data": {
      "text/html": [
       "<div>\n",
       "<style scoped>\n",
       "    .dataframe tbody tr th:only-of-type {\n",
       "        vertical-align: middle;\n",
       "    }\n",
       "\n",
       "    .dataframe tbody tr th {\n",
       "        vertical-align: top;\n",
       "    }\n",
       "\n",
       "    .dataframe thead th {\n",
       "        text-align: right;\n",
       "    }\n",
       "</style>\n",
       "<table border=\"1\" class=\"dataframe\">\n",
       "  <thead>\n",
       "    <tr style=\"text-align: right;\">\n",
       "      <th></th>\n",
       "      <th>order_id</th>\n",
       "      <th>payment_type</th>\n",
       "      <th>payment_value</th>\n",
       "      <th>review_score</th>\n",
       "      <th>product_id</th>\n",
       "      <th>order_purchase_timestamp</th>\n",
       "      <th>product_category_name_english</th>\n",
       "    </tr>\n",
       "  </thead>\n",
       "  <tbody>\n",
       "    <tr>\n",
       "      <th>20</th>\n",
       "      <td>ae9f9adfeb3a33fe59da5bab6678e5cb</td>\n",
       "      <td>boleto</td>\n",
       "      <td>134.24</td>\n",
       "      <td>5</td>\n",
       "      <td>679a3e5e1d2bb68982be5734c6e55e63</td>\n",
       "      <td>2018-02-24 08:42:23</td>\n",
       "      <td>home_construction</td>\n",
       "    </tr>\n",
       "    <tr>\n",
       "      <th>21</th>\n",
       "      <td>ae9f9adfeb3a33fe59da5bab6678e5cb</td>\n",
       "      <td>boleto</td>\n",
       "      <td>134.24</td>\n",
       "      <td>5</td>\n",
       "      <td>679a3e5e1d2bb68982be5734c6e55e63</td>\n",
       "      <td>2018-02-24 08:42:23</td>\n",
       "      <td>home_construction</td>\n",
       "    </tr>\n",
       "    <tr>\n",
       "      <th>24</th>\n",
       "      <td>ac899f448f474ceb27b400ce38f25bc2</td>\n",
       "      <td>credit_card</td>\n",
       "      <td>190.13</td>\n",
       "      <td>2</td>\n",
       "      <td>679a3e5e1d2bb68982be5734c6e55e63</td>\n",
       "      <td>2018-04-03 22:02:10</td>\n",
       "      <td>home_construction</td>\n",
       "    </tr>\n",
       "    <tr>\n",
       "      <th>25</th>\n",
       "      <td>ac899f448f474ceb27b400ce38f25bc2</td>\n",
       "      <td>credit_card</td>\n",
       "      <td>190.13</td>\n",
       "      <td>2</td>\n",
       "      <td>679a3e5e1d2bb68982be5734c6e55e63</td>\n",
       "      <td>2018-04-03 22:02:10</td>\n",
       "      <td>home_construction</td>\n",
       "    </tr>\n",
       "    <tr>\n",
       "      <th>66</th>\n",
       "      <td>1d9a9731b9c10fc9cba74e6f74782e8b</td>\n",
       "      <td>voucher</td>\n",
       "      <td>3.17</td>\n",
       "      <td>5</td>\n",
       "      <td>656bf6da1eeb7dd128b9b567eea3ca3e</td>\n",
       "      <td>2018-05-01 14:30:35</td>\n",
       "      <td>home_construction</td>\n",
       "    </tr>\n",
       "    <tr>\n",
       "      <th>...</th>\n",
       "      <td>...</td>\n",
       "      <td>...</td>\n",
       "      <td>...</td>\n",
       "      <td>...</td>\n",
       "      <td>...</td>\n",
       "      <td>...</td>\n",
       "      <td>...</td>\n",
       "    </tr>\n",
       "    <tr>\n",
       "      <th>115581</th>\n",
       "      <td>3821dc9ac1b25bed42324d0885b0a930</td>\n",
       "      <td>credit_card</td>\n",
       "      <td>334.12</td>\n",
       "      <td>1</td>\n",
       "      <td>33900d427fa4bd3f509cdacda72e84a3</td>\n",
       "      <td>2018-04-17 21:01:58</td>\n",
       "      <td>la_cuisine</td>\n",
       "    </tr>\n",
       "    <tr>\n",
       "      <th>115588</th>\n",
       "      <td>615ca9b2afeaf5644ae8cef64797132e</td>\n",
       "      <td>boleto</td>\n",
       "      <td>122.22</td>\n",
       "      <td>5</td>\n",
       "      <td>1dceebcc5f23c02ea23e16d5bedca000</td>\n",
       "      <td>2017-08-07 17:20:26</td>\n",
       "      <td>cds_dvds_musicals</td>\n",
       "    </tr>\n",
       "    <tr>\n",
       "      <th>115589</th>\n",
       "      <td>615ca9b2afeaf5644ae8cef64797132e</td>\n",
       "      <td>boleto</td>\n",
       "      <td>122.22</td>\n",
       "      <td>5</td>\n",
       "      <td>1dceebcc5f23c02ea23e16d5bedca000</td>\n",
       "      <td>2017-08-07 17:20:26</td>\n",
       "      <td>cds_dvds_musicals</td>\n",
       "    </tr>\n",
       "    <tr>\n",
       "      <th>115598</th>\n",
       "      <td>37104fd8b73d0691fda9491fe8906808</td>\n",
       "      <td>boleto</td>\n",
       "      <td>122.22</td>\n",
       "      <td>4</td>\n",
       "      <td>1dceebcc5f23c02ea23e16d5bedca000</td>\n",
       "      <td>2017-07-05 09:16:49</td>\n",
       "      <td>cds_dvds_musicals</td>\n",
       "    </tr>\n",
       "    <tr>\n",
       "      <th>115599</th>\n",
       "      <td>37104fd8b73d0691fda9491fe8906808</td>\n",
       "      <td>boleto</td>\n",
       "      <td>122.22</td>\n",
       "      <td>4</td>\n",
       "      <td>1dceebcc5f23c02ea23e16d5bedca000</td>\n",
       "      <td>2017-07-05 09:16:49</td>\n",
       "      <td>cds_dvds_musicals</td>\n",
       "    </tr>\n",
       "  </tbody>\n",
       "</table>\n",
       "<p>19168 rows × 7 columns</p>\n",
       "</div>"
      ],
      "text/plain": [
       "                                order_id payment_type  payment_value  \\\n",
       "20      ae9f9adfeb3a33fe59da5bab6678e5cb       boleto         134.24   \n",
       "21      ae9f9adfeb3a33fe59da5bab6678e5cb       boleto         134.24   \n",
       "24      ac899f448f474ceb27b400ce38f25bc2  credit_card         190.13   \n",
       "25      ac899f448f474ceb27b400ce38f25bc2  credit_card         190.13   \n",
       "66      1d9a9731b9c10fc9cba74e6f74782e8b      voucher           3.17   \n",
       "...                                  ...          ...            ...   \n",
       "115581  3821dc9ac1b25bed42324d0885b0a930  credit_card         334.12   \n",
       "115588  615ca9b2afeaf5644ae8cef64797132e       boleto         122.22   \n",
       "115589  615ca9b2afeaf5644ae8cef64797132e       boleto         122.22   \n",
       "115598  37104fd8b73d0691fda9491fe8906808       boleto         122.22   \n",
       "115599  37104fd8b73d0691fda9491fe8906808       boleto         122.22   \n",
       "\n",
       "        review_score                        product_id  \\\n",
       "20                 5  679a3e5e1d2bb68982be5734c6e55e63   \n",
       "21                 5  679a3e5e1d2bb68982be5734c6e55e63   \n",
       "24                 2  679a3e5e1d2bb68982be5734c6e55e63   \n",
       "25                 2  679a3e5e1d2bb68982be5734c6e55e63   \n",
       "66                 5  656bf6da1eeb7dd128b9b567eea3ca3e   \n",
       "...              ...                               ...   \n",
       "115581             1  33900d427fa4bd3f509cdacda72e84a3   \n",
       "115588             5  1dceebcc5f23c02ea23e16d5bedca000   \n",
       "115589             5  1dceebcc5f23c02ea23e16d5bedca000   \n",
       "115598             4  1dceebcc5f23c02ea23e16d5bedca000   \n",
       "115599             4  1dceebcc5f23c02ea23e16d5bedca000   \n",
       "\n",
       "       order_purchase_timestamp product_category_name_english  \n",
       "20          2018-02-24 08:42:23             home_construction  \n",
       "21          2018-02-24 08:42:23             home_construction  \n",
       "24          2018-04-03 22:02:10             home_construction  \n",
       "25          2018-04-03 22:02:10             home_construction  \n",
       "66          2018-05-01 14:30:35             home_construction  \n",
       "...                         ...                           ...  \n",
       "115581      2018-04-17 21:01:58                    la_cuisine  \n",
       "115588      2017-08-07 17:20:26             cds_dvds_musicals  \n",
       "115589      2017-08-07 17:20:26             cds_dvds_musicals  \n",
       "115598      2017-07-05 09:16:49             cds_dvds_musicals  \n",
       "115599      2017-07-05 09:16:49             cds_dvds_musicals  \n",
       "\n",
       "[19168 rows x 7 columns]"
      ]
     },
     "execution_count": 337,
     "metadata": {},
     "output_type": "execute_result"
    }
   ],
   "source": [
    "# check duplicates\n",
    "join_tbl[join_tbl.duplicated(keep=False)]"
   ]
  },
  {
   "cell_type": "code",
   "execution_count": 338,
   "id": "bb3e9ff8",
   "metadata": {
    "scrolled": true
   },
   "outputs": [
    {
     "data": {
      "text/html": [
       "<div>\n",
       "<style scoped>\n",
       "    .dataframe tbody tr th:only-of-type {\n",
       "        vertical-align: middle;\n",
       "    }\n",
       "\n",
       "    .dataframe tbody tr th {\n",
       "        vertical-align: top;\n",
       "    }\n",
       "\n",
       "    .dataframe thead th {\n",
       "        text-align: right;\n",
       "    }\n",
       "</style>\n",
       "<table border=\"1\" class=\"dataframe\">\n",
       "  <thead>\n",
       "    <tr style=\"text-align: right;\">\n",
       "      <th></th>\n",
       "      <th>order_id</th>\n",
       "      <th>payment_type</th>\n",
       "      <th>payment_value</th>\n",
       "      <th>review_score</th>\n",
       "      <th>product_id</th>\n",
       "      <th>order_purchase_timestamp</th>\n",
       "      <th>product_category_name_english</th>\n",
       "    </tr>\n",
       "  </thead>\n",
       "  <tbody>\n",
       "  </tbody>\n",
       "</table>\n",
       "</div>"
      ],
      "text/plain": [
       "Empty DataFrame\n",
       "Columns: [order_id, payment_type, payment_value, review_score, product_id, order_purchase_timestamp, product_category_name_english]\n",
       "Index: []"
      ]
     },
     "execution_count": 338,
     "metadata": {},
     "output_type": "execute_result"
    }
   ],
   "source": [
    "# remove duplicates\n",
    "join_tbl = join_tbl.drop_duplicates(keep=\"first\")\n",
    "\n",
    "# recheck duplicates\n",
    "join_tbl[join_tbl.duplicated(keep=False)]"
   ]
  },
  {
   "cell_type": "markdown",
   "id": "1d53381b",
   "metadata": {},
   "source": [
    "## 3.3 Handling inconsistent formats\n",
    "In this step, I will check two columns with categorical data, namely `product_category_name_english` and `payment_type` because this kind of data potentially has inconsistent formats. "
   ]
  },
  {
   "cell_type": "code",
   "execution_count": 339,
   "id": "7d26a635",
   "metadata": {
    "scrolled": true
   },
   "outputs": [
    {
     "data": {
      "text/html": [
       "<div>\n",
       "<style scoped>\n",
       "    .dataframe tbody tr th:only-of-type {\n",
       "        vertical-align: middle;\n",
       "    }\n",
       "\n",
       "    .dataframe tbody tr th {\n",
       "        vertical-align: top;\n",
       "    }\n",
       "\n",
       "    .dataframe thead th {\n",
       "        text-align: right;\n",
       "    }\n",
       "</style>\n",
       "<table border=\"1\" class=\"dataframe\">\n",
       "  <thead>\n",
       "    <tr style=\"text-align: right;\">\n",
       "      <th></th>\n",
       "      <th>product_category_name</th>\n",
       "      <th>value_counts</th>\n",
       "    </tr>\n",
       "  </thead>\n",
       "  <tbody>\n",
       "    <tr>\n",
       "      <th>0</th>\n",
       "      <td>bed_bath_table</td>\n",
       "      <td>10672</td>\n",
       "    </tr>\n",
       "    <tr>\n",
       "      <th>1</th>\n",
       "      <td>health_beauty</td>\n",
       "      <td>9196</td>\n",
       "    </tr>\n",
       "    <tr>\n",
       "      <th>2</th>\n",
       "      <td>sports_leisure</td>\n",
       "      <td>8054</td>\n",
       "    </tr>\n",
       "    <tr>\n",
       "      <th>3</th>\n",
       "      <td>computers_accessories</td>\n",
       "      <td>7089</td>\n",
       "    </tr>\n",
       "    <tr>\n",
       "      <th>4</th>\n",
       "      <td>furniture_decor</td>\n",
       "      <td>7069</td>\n",
       "    </tr>\n",
       "    <tr>\n",
       "      <th>...</th>\n",
       "      <td>...</td>\n",
       "      <td>...</td>\n",
       "    </tr>\n",
       "    <tr>\n",
       "      <th>66</th>\n",
       "      <td>home_comfort_2</td>\n",
       "      <td>24</td>\n",
       "    </tr>\n",
       "    <tr>\n",
       "      <th>67</th>\n",
       "      <td>la_cuisine</td>\n",
       "      <td>14</td>\n",
       "    </tr>\n",
       "    <tr>\n",
       "      <th>68</th>\n",
       "      <td>cds_dvds_musicals</td>\n",
       "      <td>12</td>\n",
       "    </tr>\n",
       "    <tr>\n",
       "      <th>69</th>\n",
       "      <td>fashion_childrens_clothes</td>\n",
       "      <td>8</td>\n",
       "    </tr>\n",
       "    <tr>\n",
       "      <th>70</th>\n",
       "      <td>security_and_services</td>\n",
       "      <td>2</td>\n",
       "    </tr>\n",
       "  </tbody>\n",
       "</table>\n",
       "<p>71 rows × 2 columns</p>\n",
       "</div>"
      ],
      "text/plain": [
       "        product_category_name  value_counts\n",
       "0              bed_bath_table         10672\n",
       "1               health_beauty          9196\n",
       "2              sports_leisure          8054\n",
       "3       computers_accessories          7089\n",
       "4             furniture_decor          7069\n",
       "..                        ...           ...\n",
       "66             home_comfort_2            24\n",
       "67                 la_cuisine            14\n",
       "68          cds_dvds_musicals            12\n",
       "69  fashion_childrens_clothes             8\n",
       "70      security_and_services             2\n",
       "\n",
       "[71 rows x 2 columns]"
      ]
     },
     "execution_count": 339,
     "metadata": {},
     "output_type": "execute_result"
    }
   ],
   "source": [
    "# check unique values: product_category_name\n",
    "cat_name_counts = join_tbl[\"product_category_name_english\"].value_counts().to_frame()\n",
    "cat_name_counts.reset_index().rename(columns={\"index\": \"product_category_name\", \"product_category_name_english\": \"value_counts\"})"
   ]
  },
  {
   "cell_type": "code",
   "execution_count": 340,
   "id": "2a798663",
   "metadata": {
    "scrolled": true
   },
   "outputs": [
    {
     "data": {
      "text/plain": [
       "array(['home_construction', 'auto', 'perfumery', 'bed_bath_table',\n",
       "       'housewares', 'art', 'sports_leisure', 'furniture_living_room',\n",
       "       'garden_tools', 'electronics', 'signaling_and_security',\n",
       "       'cool_stuff', 'watches_gifts', 'baby', 'furniture_decor',\n",
       "       'construction_tools_lights', 'pet_shop', 'health_beauty',\n",
       "       'office_furniture', 'consoles_games', 'home_appliances',\n",
       "       'telephony', 'toys', 'stationery', 'books_general_interest',\n",
       "       'computers_accessories', 'small_appliances',\n",
       "       'fashion_bags_accessories', 'costruction_tools_garden',\n",
       "       'musical_instruments', 'christmas_supplies', 'luggage_accessories',\n",
       "       'construction_tools_construction', 'costruction_tools_tools',\n",
       "       'market_place', 'food_drink', 'home_confort', 'fixed_telephony',\n",
       "       'audio', 'air_conditioning', 'fashion_sport',\n",
       "       'kitchen_dining_laundry_garden_furniture',\n",
       "       'construction_tools_safety', 'food',\n",
       "       'industry_commerce_and_business', 'computers', 'drinks',\n",
       "       'fashion_shoes', 'books_imported', 'agro_industry_and_commerce',\n",
       "       'books_technical', 'music', 'fashion_male_clothing',\n",
       "       'diapers_and_hygiene', 'fashion_underwear_beach',\n",
       "       'fashio_female_clothing', 'furniture_mattress_and_upholstery',\n",
       "       'dvds_blu_ray', 'tablets_printing_image', 'flowers',\n",
       "       'small_appliances_home_oven_and_coffee', 'cine_photo',\n",
       "       'arts_and_craftmanship', 'party_supplies', 'furniture_bedroom',\n",
       "       'home_comfort', 'la_cuisine', 'security_and_services',\n",
       "       'cds_dvds_musicals', 'fashion_childrens_clothes'], dtype=object)"
      ]
     },
     "execution_count": 340,
     "metadata": {},
     "output_type": "execute_result"
    }
   ],
   "source": [
    "# map inconsistent format\n",
    "map_inconsistent = {\n",
    "    \"home_appliances_2\": \"home_appliances\",\n",
    "    \"home_comfort_2\": \"home_comfort\"\n",
    "}\n",
    "\n",
    "# remove inconsistent formats\n",
    "join_tbl[\"product_category_name_english\"] = join_tbl[\"product_category_name_english\"].replace(map_inconsistent)\n",
    "\n",
    "\n",
    "# recheck\n",
    "join_tbl[\"product_category_name_english\"].unique()"
   ]
  },
  {
   "cell_type": "code",
   "execution_count": 341,
   "id": "818092f6",
   "metadata": {},
   "outputs": [
    {
     "data": {
      "text/html": [
       "<div>\n",
       "<style scoped>\n",
       "    .dataframe tbody tr th:only-of-type {\n",
       "        vertical-align: middle;\n",
       "    }\n",
       "\n",
       "    .dataframe tbody tr th {\n",
       "        vertical-align: top;\n",
       "    }\n",
       "\n",
       "    .dataframe thead th {\n",
       "        text-align: right;\n",
       "    }\n",
       "</style>\n",
       "<table border=\"1\" class=\"dataframe\">\n",
       "  <thead>\n",
       "    <tr style=\"text-align: right;\">\n",
       "      <th></th>\n",
       "      <th>index</th>\n",
       "      <th>payment_type</th>\n",
       "    </tr>\n",
       "  </thead>\n",
       "  <tbody>\n",
       "    <tr>\n",
       "      <th>0</th>\n",
       "      <td>credit_card</td>\n",
       "      <td>77659</td>\n",
       "    </tr>\n",
       "    <tr>\n",
       "      <th>1</th>\n",
       "      <td>boleto</td>\n",
       "      <td>19905</td>\n",
       "    </tr>\n",
       "    <tr>\n",
       "      <th>2</th>\n",
       "      <td>voucher</td>\n",
       "      <td>5154</td>\n",
       "    </tr>\n",
       "    <tr>\n",
       "      <th>3</th>\n",
       "      <td>debit_card</td>\n",
       "      <td>1548</td>\n",
       "    </tr>\n",
       "  </tbody>\n",
       "</table>\n",
       "</div>"
      ],
      "text/plain": [
       "         index  payment_type\n",
       "0  credit_card         77659\n",
       "1       boleto         19905\n",
       "2      voucher          5154\n",
       "3   debit_card          1548"
      ]
     },
     "execution_count": 341,
     "metadata": {},
     "output_type": "execute_result"
    }
   ],
   "source": [
    "# check unique values: product_category_name\n",
    "payment_type_counts = join_tbl[\"payment_type\"].value_counts().to_frame()\n",
    "payment_type_counts.reset_index().rename(index={\"index\":\"payment_type\", \"payment_type\":\"value_count\"})"
   ]
  },
  {
   "cell_type": "markdown",
   "id": "3be5c7fe",
   "metadata": {},
   "source": [
    "## 3.4 Handling outliers"
   ]
  },
  {
   "cell_type": "markdown",
   "id": "2dc6f5e0",
   "metadata": {},
   "source": [
    "I will only need to check `payment_value` in terms of outliers because there is only one column containing real numeric data."
   ]
  },
  {
   "cell_type": "code",
   "execution_count": 342,
   "id": "f68ed9ec",
   "metadata": {},
   "outputs": [],
   "source": [
    "# remove warning message\n",
    "import warnings\n",
    "warnings.filterwarnings(\"ignore\")"
   ]
  },
  {
   "cell_type": "code",
   "execution_count": 343,
   "id": "0f52c4d7",
   "metadata": {
    "scrolled": false
   },
   "outputs": [
    {
     "data": {
      "image/png": "[encoded data removed]",
      "text/plain": [
       "<Figure size 1080x360 with 2 Axes>"
      ]
     },
     "metadata": {
      "needs_background": "light"
     },
     "output_type": "display_data"
    }
   ],
   "source": [
    "# visualize data\n",
    "plt.figure(figsize=(15, 5))\n",
    "\n",
    "## --BEFORE OUTLIER TREATMENT--\n",
    "plt.subplot(1, 2, 1)\n",
    "sns.boxplot(data=join_tbl, x=\"payment_value\")\n",
    "plt.xlabel(\"Payment value\")\n",
    "plt.title(\"Distribution of payment value: Before outlier treatment\")\n",
    "\n",
    "## --AFTER OUTLIER TREATMENT---\n",
    "plt.subplot(1, 2, 2)\n",
    "# get upper value of payment_value\n",
    "upper_payment_value = join_tbl[\"payment_value\"].quantile(q=0.75)*1.5\n",
    "\n",
    "# get middle value of payment_value\n",
    "mid_payment_value = join_tbl[\"payment_value\"].median()\n",
    "\n",
    "# replace outliers with median\n",
    "join_tbl.loc[join_tbl[\"payment_value\"] > upper_payment_value]=mid_payment_value\n",
    "\n",
    "# recheck outliers in payment_value\n",
    "sns.boxplot(data=join_tbl, x=\"payment_value\")\n",
    "plt.xlabel(\"Payment value\")\n",
    "plt.title(\"Distribution of payment value: After outlier treatment\")\n",
    "\n",
    "plt.tight_layout(pad=3)"
   ]
  },
  {
   "cell_type": "markdown",
   "id": "f4e35f0d",
   "metadata": {},
   "source": [
    "# 4 Data exploration"
   ]
  },
  {
   "cell_type": "code",
   "execution_count": 344,
   "id": "1ceffb46",
   "metadata": {
    "scrolled": true
   },
   "outputs": [
    {
     "data": {
      "text/html": [
       "<div>\n",
       "<style scoped>\n",
       "    .dataframe tbody tr th:only-of-type {\n",
       "        vertical-align: middle;\n",
       "    }\n",
       "\n",
       "    .dataframe tbody tr th {\n",
       "        vertical-align: top;\n",
       "    }\n",
       "\n",
       "    .dataframe thead th {\n",
       "        text-align: right;\n",
       "    }\n",
       "</style>\n",
       "<table border=\"1\" class=\"dataframe\">\n",
       "  <thead>\n",
       "    <tr style=\"text-align: right;\">\n",
       "      <th></th>\n",
       "      <th>order_id</th>\n",
       "      <th>payment_type</th>\n",
       "      <th>payment_value</th>\n",
       "      <th>review_score</th>\n",
       "      <th>product_id</th>\n",
       "      <th>order_purchase_timestamp</th>\n",
       "      <th>product_category_name_english</th>\n",
       "    </tr>\n",
       "  </thead>\n",
       "  <tbody>\n",
       "    <tr>\n",
       "      <th>0</th>\n",
       "      <td>b81ef226f3fe1789b1e8b2acac839d17</td>\n",
       "      <td>credit_card</td>\n",
       "      <td>99.33</td>\n",
       "      <td>1.0</td>\n",
       "      <td>af74cc53dcffc8384b29e7abfa41902b</td>\n",
       "      <td>2018-04-25 22:01:49</td>\n",
       "      <td>home_construction</td>\n",
       "    </tr>\n",
       "    <tr>\n",
       "      <th>1</th>\n",
       "      <td>d86305c284cecff56c7ee9d3fbd4f8d6</td>\n",
       "      <td>credit_card</td>\n",
       "      <td>93.72</td>\n",
       "      <td>4.0</td>\n",
       "      <td>af74cc53dcffc8384b29e7abfa41902b</td>\n",
       "      <td>2018-04-15 22:53:59</td>\n",
       "      <td>home_construction</td>\n",
       "    </tr>\n",
       "    <tr>\n",
       "      <th>3</th>\n",
       "      <td>6a26bd1a037993f1205073dbeda67db4</td>\n",
       "      <td>credit_card</td>\n",
       "      <td>67.12</td>\n",
       "      <td>4.0</td>\n",
       "      <td>679a3e5e1d2bb68982be5734c6e55e63</td>\n",
       "      <td>2018-02-15 13:53:42</td>\n",
       "      <td>home_construction</td>\n",
       "    </tr>\n",
       "    <tr>\n",
       "      <th>4</th>\n",
       "      <td>1d84d00f6d2334d63f35ba528cd0d99d</td>\n",
       "      <td>boleto</td>\n",
       "      <td>63.74</td>\n",
       "      <td>5.0</td>\n",
       "      <td>679a3e5e1d2bb68982be5734c6e55e63</td>\n",
       "      <td>2018-02-10 16:50:42</td>\n",
       "      <td>home_construction</td>\n",
       "    </tr>\n",
       "    <tr>\n",
       "      <th>5</th>\n",
       "      <td>968a408760f771cab3ce5db012e90a1f</td>\n",
       "      <td>boleto</td>\n",
       "      <td>70.75</td>\n",
       "      <td>1.0</td>\n",
       "      <td>679a3e5e1d2bb68982be5734c6e55e63</td>\n",
       "      <td>2018-03-10 22:58:30</td>\n",
       "      <td>home_construction</td>\n",
       "    </tr>\n",
       "  </tbody>\n",
       "</table>\n",
       "</div>"
      ],
      "text/plain": [
       "                           order_id payment_type  payment_value  review_score  \\\n",
       "0  b81ef226f3fe1789b1e8b2acac839d17  credit_card          99.33           1.0   \n",
       "1  d86305c284cecff56c7ee9d3fbd4f8d6  credit_card          93.72           4.0   \n",
       "3  6a26bd1a037993f1205073dbeda67db4  credit_card          67.12           4.0   \n",
       "4  1d84d00f6d2334d63f35ba528cd0d99d       boleto          63.74           5.0   \n",
       "5  968a408760f771cab3ce5db012e90a1f       boleto          70.75           1.0   \n",
       "\n",
       "                         product_id order_purchase_timestamp  \\\n",
       "0  af74cc53dcffc8384b29e7abfa41902b      2018-04-25 22:01:49   \n",
       "1  af74cc53dcffc8384b29e7abfa41902b      2018-04-15 22:53:59   \n",
       "3  679a3e5e1d2bb68982be5734c6e55e63      2018-02-15 13:53:42   \n",
       "4  679a3e5e1d2bb68982be5734c6e55e63      2018-02-10 16:50:42   \n",
       "5  679a3e5e1d2bb68982be5734c6e55e63      2018-03-10 22:58:30   \n",
       "\n",
       "  product_category_name_english  \n",
       "0             home_construction  \n",
       "1             home_construction  \n",
       "3             home_construction  \n",
       "4             home_construction  \n",
       "5             home_construction  "
      ]
     },
     "execution_count": 344,
     "metadata": {},
     "output_type": "execute_result"
    }
   ],
   "source": [
    "# remove strange values\n",
    "join_tbl = join_tbl[join_tbl.order_id != 102.78]\n",
    "join_tbl.head()"
   ]
  },
  {
   "cell_type": "markdown",
   "id": "87fdbbb7",
   "metadata": {},
   "source": [
    "## 4.1 Top selling products"
   ]
  },
  {
   "cell_type": "markdown",
   "id": "0b7dda82",
   "metadata": {},
   "source": [
    "### 4.1.1 Product sales"
   ]
  },
  {
   "cell_type": "code",
   "execution_count": 345,
   "id": "4726c932",
   "metadata": {
    "scrolled": true
   },
   "outputs": [],
   "source": [
    "# prepare data\n",
    "top_selling_products = join_tbl[\"product_category_name_english\"].value_counts().to_frame()\n",
    "top_selling_products = top_selling_products.reset_index().rename(columns={\"index\":\"product_category\", \"product_category_name_english\":\"count\"})\n",
    "top = top_selling_products.head(10)\n",
    "last = top_selling_products.tail(10)"
   ]
  },
  {
   "cell_type": "code",
   "execution_count": 346,
   "id": "b9e6e14a",
   "metadata": {},
   "outputs": [
    {
     "data": {
      "image/png": "[encoded data removed]",
      "text/plain": [
       "<Figure size 1080x360 with 2 Axes>"
      ]
     },
     "metadata": {
      "needs_background": "light"
     },
     "output_type": "display_data"
    }
   ],
   "source": [
    "# visualize data\n",
    "plt.figure(figsize=(15, 5))\n",
    "plt.subplot(1, 2, 1)\n",
    "sns.barplot(data=top, x=\"count\", y=\"product_category\", palette=\"magma\")\n",
    "plt.title(\"Top selling products\")\n",
    "plt.xlabel(\"Count\")\n",
    "plt.ylabel(\"Product category\")\n",
    "\n",
    "plt.subplot(1, 2, 2)\n",
    "sns.barplot(data=last, x=\"count\", y=\"product_category\", palette=\"magma\")\n",
    "plt.title(\"Least selling products\")\n",
    "plt.xlabel(\"Count\")\n",
    "plt.ylabel(\"Product category\")\n",
    "\n",
    "plt.tight_layout(pad=1)"
   ]
  },
  {
   "cell_type": "markdown",
   "id": "1a9a03fd",
   "metadata": {},
   "source": [
    "### 4.1.2 Revenue based on product categories"
   ]
  },
  {
   "cell_type": "code",
   "execution_count": 347,
   "id": "5607842b",
   "metadata": {},
   "outputs": [],
   "source": [
    "# revenues based on product categories\n",
    "revenue_product = join_tbl.groupby(\"product_category_name_english\")\n",
    "revenue_product = revenue_product[\"payment_value\"].sum()\n",
    "revenue_product = revenue_product.to_frame().reset_index().sort_values(\"payment_value\", ascending=False)\n",
    "revenue_product_top10 = revenue_product.head(10)\n",
    "revenue_product_last10 = revenue_product.tail(10)"
   ]
  },
  {
   "cell_type": "code",
   "execution_count": 348,
   "id": "501433e9",
   "metadata": {
    "scrolled": true
   },
   "outputs": [
    {
     "data": {
      "image/png": "[encoded data removed]",
      "text/plain": [
       "<Figure size 1080x360 with 2 Axes>"
      ]
     },
     "metadata": {
      "needs_background": "light"
     },
     "output_type": "display_data"
    }
   ],
   "source": [
    "# biggest revenue\n",
    "\n",
    "plt.figure(figsize=(15, 5))\n",
    "plt.subplot(1, 2, 1)\n",
    "plt.ticklabel_format(style='plain', axis='x')\n",
    "revenue_product_top10 = sns.barplot(data=revenue_product_top10, \n",
    "                                    y=\"product_category_name_english\", \n",
    "                                    x=\"payment_value\", palette=\"viridis\")\n",
    "revenue_product_top10.set(xlabel=\"Revenue (\\$)\", \n",
    "                          ylabel=\"Product category\", \n",
    "                          title=\"Product categories with biggest revenue\")\n",
    "\n",
    "plt.subplot(1, 2, 2)\n",
    "# lowest revenue\n",
    "revenue_product_last10 = sns.barplot(data=revenue_product_last10, \n",
    "                                     y=\"product_category_name_english\", \n",
    "                                     x=\"payment_value\", palette=\"viridis\")\n",
    "revenue_product_last10.set(xlabel=\"Revenue (\\$)\", \n",
    "                           ylabel=\"Product category\", \n",
    "                           title=\"Product categories with lowest revenue\")\n",
    "\n",
    "plt.tight_layout(pad=1)"
   ]
  },
  {
   "cell_type": "markdown",
   "id": "f33ec3a0",
   "metadata": {},
   "source": [
    "## 4.2 Most popular payment methods"
   ]
  },
  {
   "cell_type": "code",
   "execution_count": 349,
   "id": "5b1d2c56",
   "metadata": {
    "scrolled": true
   },
   "outputs": [
    {
     "data": {
      "text/html": [
       "<div>\n",
       "<style scoped>\n",
       "    .dataframe tbody tr th:only-of-type {\n",
       "        vertical-align: middle;\n",
       "    }\n",
       "\n",
       "    .dataframe tbody tr th {\n",
       "        vertical-align: top;\n",
       "    }\n",
       "\n",
       "    .dataframe thead th {\n",
       "        text-align: right;\n",
       "    }\n",
       "</style>\n",
       "<table border=\"1\" class=\"dataframe\">\n",
       "  <thead>\n",
       "    <tr style=\"text-align: right;\">\n",
       "      <th></th>\n",
       "      <th>payment_type</th>\n",
       "      <th>count</th>\n",
       "    </tr>\n",
       "  </thead>\n",
       "  <tbody>\n",
       "    <tr>\n",
       "      <th>0</th>\n",
       "      <td>credit_card</td>\n",
       "      <td>73.461</td>\n",
       "    </tr>\n",
       "    <tr>\n",
       "      <th>1</th>\n",
       "      <td>boleto</td>\n",
       "      <td>19.490</td>\n",
       "    </tr>\n",
       "    <tr>\n",
       "      <th>2</th>\n",
       "      <td>voucher</td>\n",
       "      <td>5.516</td>\n",
       "    </tr>\n",
       "    <tr>\n",
       "      <th>3</th>\n",
       "      <td>debit_card</td>\n",
       "      <td>1.534</td>\n",
       "    </tr>\n",
       "  </tbody>\n",
       "</table>\n",
       "</div>"
      ],
      "text/plain": [
       "  payment_type   count\n",
       "0  credit_card  73.461\n",
       "1       boleto  19.490\n",
       "2      voucher   5.516\n",
       "3   debit_card   1.534"
      ]
     },
     "execution_count": 349,
     "metadata": {},
     "output_type": "execute_result"
    }
   ],
   "source": [
    "# prepare the data\n",
    "payment_type_col = join_tbl[\"payment_type\"].value_counts(normalize=True)*100\n",
    "payment_type_col = payment_type_col.to_frame(\"count\")\n",
    "payment_type_col = payment_type_col.reset_index()\n",
    "payment_type_col = payment_type_col.rename(columns={\"index\":\"payment_type\"})\n",
    "payment_type_col[\"count\"] = payment_type_col[\"count\"].round(3)\n",
    "payment_type_col"
   ]
  },
  {
   "cell_type": "code",
   "execution_count": 350,
   "id": "229459dd",
   "metadata": {},
   "outputs": [
    {
     "data": {
      "text/plain": [
       "Text(0.5, 1.0, 'Most preferred payment methods')"
      ]
     },
     "execution_count": 350,
     "metadata": {},
     "output_type": "execute_result"
    },
    {
     "data": {
      "image/png": "[encoded data removed]",
      "text/plain": [
       "<Figure size 1080x360 with 2 Axes>"
      ]
     },
     "metadata": {
      "needs_background": "light"
     },
     "output_type": "display_data"
    }
   ],
   "source": [
    "# visualize the data\n",
    "\n",
    "plt.figure(figsize=(15, 5))\n",
    "\n",
    "# bar plot\n",
    "plt.subplot(1, 2, 1)\n",
    "pop_payment_method = sns.countplot(data=join_tbl, x=\"payment_type\")\n",
    "pop_payment_method.set(xlabel=\"Payment method\", ylabel=\"Count\", title=\"Most preferred payment methods\")\n",
    "\n",
    "# pie chart\n",
    "plt.subplot(1, 2, 2)\n",
    "# explode = [0, 0, 0, 0.2]\n",
    "plt.pie(data=payment_type_col, x=\"count\",\n",
    "        labels=\"payment_type\", autopct='%.0f%%')\n",
    "plt.title(\"Most preferred payment methods\")"
   ]
  },
  {
   "cell_type": "markdown",
   "id": "386d6b94",
   "metadata": {},
   "source": [
    "## 4.3 Top and least rated product categories"
   ]
  },
  {
   "cell_type": "code",
   "execution_count": 351,
   "id": "bfc91121",
   "metadata": {
    "scrolled": false
   },
   "outputs": [],
   "source": [
    "# Prepare the data\n",
    "product_review = join_tbl.groupby(\"product_category_name_english\").mean().sort_values(\"review_score\", ascending=False).reset_index()\n",
    "product_review = product_review.drop(columns = \"payment_value\")\n",
    "top_rated = product_review.head(10)\n",
    "last_rated = product_review.tail(10)"
   ]
  },
  {
   "cell_type": "code",
   "execution_count": 352,
   "id": "1a924032",
   "metadata": {},
   "outputs": [
    {
     "data": {
      "image/png": "[encoded data removed]",
      "text/plain": [
       "<Figure size 1080x360 with 2 Axes>"
      ]
     },
     "metadata": {
      "needs_background": "light"
     },
     "output_type": "display_data"
    }
   ],
   "source": [
    "plt.figure(figsize=(15, 5))\n",
    "\n",
    "# Top rated products\n",
    "plt.subplot(1, 2, 1)\n",
    "sns.barplot(data=top_rated, x=\"review_score\", y=\"product_category_name_english\", palette=\"magma\")\n",
    "plt.title(\"Top rated product categories\")\n",
    "plt.xlabel(\"Review score\")\n",
    "plt.ylabel(\"Product category\")\n",
    "\n",
    "# Least rated products\n",
    "plt.subplot(1, 2, 2)\n",
    "sns.barplot(data=last_rated, x=\"review_score\", y=\"product_category_name_english\", palette=\"magma\")\n",
    "plt.title(\"Least rated product categories\")\n",
    "plt.xlabel(\"Review score\")\n",
    "plt.ylabel(\"Product category\")\n",
    "\n",
    "plt.tight_layout(pad=3)"
   ]
  }
 ],
 "metadata": {
  "kernelspec": {
   "display_name": "Python 3 (ipykernel)",
   "language": "python",
   "name": "python3"
  },
  "language_info": {
   "codemirror_mode": {
    "name": "ipython",
    "version": 3
   },
   "file_extension": ".py",
   "mimetype": "text/x-python",
   "name": "python",
   "nbconvert_exporter": "python",
   "pygments_lexer": "ipython3",
   "version": "3.10.6"
  }
 },
 "nbformat": 4,
 "nbformat_minor": 5
}
